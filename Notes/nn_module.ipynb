{
 "cells": [
  {
   "cell_type": "code",
   "execution_count": 1,
   "id": "31e73fd6",
   "metadata": {},
   "outputs": [],
   "source": [
    "# create model\n",
    "\n",
    "import torch\n",
    "import torch.nn as nn\n",
    "\n",
    "class Model(nn.Module):\n",
    "\n",
    "     '''\n",
    "    def __init__(self, num_features):\n",
    "\n",
    "        super().__init__()\n",
    "        self.linear1=nn.Linear(num_features,3)\n",
    "        self.relu=nn.ReLU()\n",
    "        self.linear2=nn.Linear(3,1)\n",
    "        self.sigmoid=nn.Sigmoid()\n",
    "     '''\n",
    "     '''\n",
    "\n",
    "    def forward(self,features):\n",
    "        out=self.linear1(features)\n",
    "        out=self.relu(out)\n",
    "        out=self.linear2(out)            \n",
    "        out=self.sigmoid(out)\n",
    "        return out\n",
    "\n",
    "     '''\n",
    "\n",
    " # using sequential containers\n",
    "     def __init__(self, num_features):\n",
    "\n",
    "        super().__init__()\n",
    "        self.network=nn.Sequential( \n",
    "                nn.Linear(num_features,3),\n",
    "                nn.ReLU(),\n",
    "                nn.Linear(3,1),\n",
    "                nn.Sigmoid()\n",
    "            )\n",
    "     def forward(self,features):\n",
    "         out=self.network(features)\n",
    "         return out\n"
   ]
  },
  {
   "cell_type": "code",
   "execution_count": 2,
   "id": "28d79e89",
   "metadata": {},
   "outputs": [
    {
     "data": {
      "text/plain": [
       "tensor([[0.5789],\n",
       "        [0.5603],\n",
       "        [0.5607],\n",
       "        [0.5605],\n",
       "        [0.5602],\n",
       "        [0.5605],\n",
       "        [0.5666],\n",
       "        [0.5932],\n",
       "        [0.5607],\n",
       "        [0.5599]], grad_fn=<SigmoidBackward0>)"
      ]
     },
     "execution_count": 2,
     "metadata": {},
     "output_type": "execute_result"
    }
   ],
   "source": [
    "# create dataset\n",
    "\n",
    "features=torch.rand(10,5)\n",
    "\n",
    "# create model\n",
    "\n",
    "model=Model(features.shape[1])\n",
    "\n",
    "# call model for forward pass\n",
    "model(features)"
   ]
  },
  {
   "cell_type": "code",
   "execution_count": 3,
   "id": "b255c7fe",
   "metadata": {},
   "outputs": [
    {
     "data": {
      "text/plain": [
       "Parameter containing:\n",
       "tensor([[-0.2005,  0.1188,  0.2907, -0.3667, -0.4409],\n",
       "        [-0.0179, -0.3628, -0.4447, -0.2752,  0.1754],\n",
       "        [ 0.0744, -0.3209,  0.1005, -0.3906,  0.3237]], requires_grad=True)"
      ]
     },
     "execution_count": 3,
     "metadata": {},
     "output_type": "execute_result"
    }
   ],
   "source": [
    "# show modelweights\n",
    "\n",
    "# model.linear1.weight\n",
    "\n",
    "# Access first Linear layer's weights\n",
    "model.network[0].weight\n",
    "\n"
   ]
  },
  {
   "cell_type": "code",
   "execution_count": 4,
   "id": "4a4a6909",
   "metadata": {},
   "outputs": [],
   "source": [
    "# model.linear1.bias\n"
   ]
  },
  {
   "cell_type": "code",
   "execution_count": 5,
   "id": "5368b6b4",
   "metadata": {},
   "outputs": [
    {
     "data": {
      "text/plain": [
       "Parameter containing:\n",
       "tensor([[-0.0144,  0.5632, -0.0160]], requires_grad=True)"
      ]
     },
     "execution_count": 5,
     "metadata": {},
     "output_type": "execute_result"
    }
   ],
   "source": [
    "# Access second Linear layer's weights\n",
    "model.network[2].weight\n",
    "#model.linear2.weight"
   ]
  },
  {
   "cell_type": "code",
   "execution_count": 6,
   "id": "0bc9c8de",
   "metadata": {},
   "outputs": [
    {
     "name": "stdout",
     "output_type": "stream",
     "text": [
      "Parameter containing:\n",
      "tensor([ 0.2886,  0.3949, -0.4057], requires_grad=True)\n",
      "==================================================\n",
      "Parameter containing:\n",
      "tensor([0.2438], requires_grad=True)\n"
     ]
    }
   ],
   "source": [
    "# model.linear2.bias\n",
    "\n",
    "print(model.network[0].bias)\n",
    "print('='*50)\n",
    "print(model.network[2].bias)\n"
   ]
  },
  {
   "cell_type": "code",
   "execution_count": 7,
   "id": "b5a48dc5",
   "metadata": {},
   "outputs": [
    {
     "name": "stdout",
     "output_type": "stream",
     "text": [
      "Requirement already satisfied: torchinfo in c:\\anaconda3\\lib\\site-packages (1.8.0)\n",
      "Note: you may need to restart the kernel to use updated packages.\n"
     ]
    }
   ],
   "source": [
    "pip install torchinfo"
   ]
  },
  {
   "cell_type": "code",
   "execution_count": 8,
   "id": "28372f2c",
   "metadata": {},
   "outputs": [
    {
     "data": {
      "text/plain": [
       "==========================================================================================\n",
       "Layer (type:depth-idx)                   Output Shape              Param #\n",
       "==========================================================================================\n",
       "Model                                    [10, 1]                   --\n",
       "├─Sequential: 1-1                        [10, 1]                   --\n",
       "│    └─Linear: 2-1                       [10, 3]                   18\n",
       "│    └─ReLU: 2-2                         [10, 3]                   --\n",
       "│    └─Linear: 2-3                       [10, 1]                   4\n",
       "│    └─Sigmoid: 2-4                      [10, 1]                   --\n",
       "==========================================================================================\n",
       "Total params: 22\n",
       "Trainable params: 22\n",
       "Non-trainable params: 0\n",
       "Total mult-adds (Units.MEGABYTES): 0.00\n",
       "==========================================================================================\n",
       "Input size (MB): 0.00\n",
       "Forward/backward pass size (MB): 0.00\n",
       "Params size (MB): 0.00\n",
       "Estimated Total Size (MB): 0.00\n",
       "=========================================================================================="
      ]
     },
     "execution_count": 8,
     "metadata": {},
     "output_type": "execute_result"
    }
   ],
   "source": [
    "from torchinfo import summary\n",
    "summary(model,input_size=(10,5))"
   ]
  },
  {
   "cell_type": "code",
   "execution_count": null,
   "id": "044cad0c",
   "metadata": {},
   "outputs": [],
   "source": []
  },
  {
   "cell_type": "code",
   "execution_count": null,
   "id": "9b0158f0",
   "metadata": {},
   "outputs": [],
   "source": []
  },
  {
   "cell_type": "code",
   "execution_count": null,
   "id": "4170c451",
   "metadata": {},
   "outputs": [],
   "source": []
  },
  {
   "cell_type": "code",
   "execution_count": null,
   "id": "61e4ed31",
   "metadata": {},
   "outputs": [],
   "source": []
  },
  {
   "cell_type": "code",
   "execution_count": null,
   "id": "765291a3",
   "metadata": {},
   "outputs": [],
   "source": []
  },
  {
   "cell_type": "code",
   "execution_count": null,
   "id": "2049ba14",
   "metadata": {},
   "outputs": [],
   "source": []
  },
  {
   "cell_type": "code",
   "execution_count": null,
   "id": "dae8c07d",
   "metadata": {},
   "outputs": [],
   "source": []
  }
 ],
 "metadata": {
  "kernelspec": {
   "display_name": "base",
   "language": "python",
   "name": "python3"
  },
  "language_info": {
   "codemirror_mode": {
    "name": "ipython",
    "version": 3
   },
   "file_extension": ".py",
   "mimetype": "text/x-python",
   "name": "python",
   "nbconvert_exporter": "python",
   "pygments_lexer": "ipython3",
   "version": "3.12.4"
  }
 },
 "nbformat": 4,
 "nbformat_minor": 5
}
