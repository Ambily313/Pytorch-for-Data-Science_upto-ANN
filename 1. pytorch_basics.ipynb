{
 "cells": [
  {
   "cell_type": "markdown",
   "id": "084b2dda",
   "metadata": {},
   "source": [
    "#    PyTorch Basics"
   ]
  },
  {
   "cell_type": "raw",
   "id": "a74c878d",
   "metadata": {
    "vscode": {
     "languageId": "raw"
    }
   },
   "source": [
    "# 1.What’s the difference between PyTorch tensors and NumPy arrays?\n",
    "\n",
    "\n",
    "PyTorch tensors can run on GPU for acceleration; NumPy arrays cannot.\n",
    "\n",
    "PyTorch supports automatic differentiation via autograd; NumPy does not.\n"
   ]
  },
  {
   "cell_type": "code",
   "execution_count": 1,
   "id": "45309698",
   "metadata": {},
   "outputs": [
    {
     "data": {
      "text/plain": [
       "tensor([[0.5309, 0.6994, 0.9826],\n",
       "        [0.4204, 0.8653, 0.4773]])"
      ]
     },
     "execution_count": 1,
     "metadata": {},
     "output_type": "execute_result"
    }
   ],
   "source": [
    "2.# Create a tensor of shape (3, 4) with random values.\n",
    "\n",
    "import torch\n",
    "\n",
    "a=torch.rand(2,3)\n",
    "a"
   ]
  },
  {
   "cell_type": "code",
   "execution_count": 2,
   "id": "0403b167",
   "metadata": {},
   "outputs": [
    {
     "data": {
      "text/plain": [
       "tensor([[0., 0., 0.],\n",
       "        [0., 0., 0.]])"
      ]
     },
     "execution_count": 2,
     "metadata": {},
     "output_type": "execute_result"
    }
   ],
   "source": [
    "# 3.Create a tensor with all ones and another with all zeros.\n",
    "b=torch.zeros(2,3)\n",
    "b"
   ]
  },
  {
   "cell_type": "code",
   "execution_count": 3,
   "id": "c1d50cd5",
   "metadata": {},
   "outputs": [
    {
     "data": {
      "text/plain": [
       "tensor([[1., 1., 1.],\n",
       "        [1., 1., 1.]])"
      ]
     },
     "execution_count": 3,
     "metadata": {},
     "output_type": "execute_result"
    }
   ],
   "source": [
    "c=torch.ones(2,3)\n",
    "c"
   ]
  },
  {
   "cell_type": "code",
   "execution_count": 4,
   "id": "a6bc4400",
   "metadata": {},
   "outputs": [
    {
     "data": {
      "text/plain": [
       "tensor([[1, 2, 3],\n",
       "        [4, 5, 6]], dtype=torch.int32)"
      ]
     },
     "execution_count": 4,
     "metadata": {},
     "output_type": "execute_result"
    }
   ],
   "source": [
    "\n",
    "# 4.Convert a NumPy array to a PyTorch tensor.\n",
    "\n",
    "import numpy as np\n",
    "arr =np.array([[1,2,3],[4,5,6]])\n",
    "\n",
    "tensor=torch.from_numpy(arr)\n",
    "tensor"
   ]
  },
  {
   "cell_type": "code",
   "execution_count": 5,
   "id": "8eff48ec",
   "metadata": {},
   "outputs": [
    {
     "data": {
      "text/plain": [
       "tensor([[0.5015, 0.5426],\n",
       "        [0.5238, 0.9077],\n",
       "        [0.2228, 0.2682]])"
      ]
     },
     "execution_count": 5,
     "metadata": {},
     "output_type": "execute_result"
    }
   ],
   "source": [
    "# 5.Slice a tensor to get the first 2 rows and 2 columns.\n",
    "\n",
    "x=torch.rand(4,4)\n",
    "sliced=x[:3,2:4]\n",
    "sliced"
   ]
  },
  {
   "cell_type": "code",
   "execution_count": 6,
   "id": "7f6467d3",
   "metadata": {},
   "outputs": [
    {
     "data": {
      "text/plain": [
       "tensor([[-0.8405,  1.0417,  0.7773, -1.2449],\n",
       "        [-0.1005, -1.6992, -0.5955,  1.3698]])"
      ]
     },
     "execution_count": 6,
     "metadata": {},
     "output_type": "execute_result"
    }
   ],
   "source": [
    "# 6.How do you perform matrix multiplication in PyTorch?\n",
    "a = torch.randn(2, 3)\n",
    "b = torch.randn(3, 4)\n",
    "c = torch.matmul(a, b)\n",
    "\n",
    "c"
   ]
  },
  {
   "cell_type": "code",
   "execution_count": 7,
   "id": "fa3ffc35",
   "metadata": {},
   "outputs": [
    {
     "data": {
      "text/plain": [
       "tensor([2.], requires_grad=True)"
      ]
     },
     "execution_count": 7,
     "metadata": {},
     "output_type": "execute_result"
    }
   ],
   "source": [
    "# 7.Create a tensor that requires gradients.\n",
    "\n",
    "x = torch.tensor([2.0], requires_grad=True)\n",
    "x"
   ]
  },
  {
   "cell_type": "code",
   "execution_count": 8,
   "id": "61de8885",
   "metadata": {},
   "outputs": [
    {
     "name": "stdout",
     "output_type": "stream",
     "text": [
      "tensor([7.])\n"
     ]
    }
   ],
   "source": [
    "# 8. Demonstrate .backward() on a scalar loss.\n",
    "\n",
    "x = torch.tensor([2.0], requires_grad=True)\n",
    "y = x ** 2 + 3 * x + 5\n",
    "y.backward()\n",
    "print(x.grad)"
   ]
  },
  {
   "cell_type": "code",
   "execution_count": 9,
   "id": "2e8e6860",
   "metadata": {},
   "outputs": [
    {
     "ename": "SyntaxError",
     "evalue": "invalid syntax (3913795721.py, line 4)",
     "output_type": "error",
     "traceback": [
      "\u001b[1;36m  Cell \u001b[1;32mIn[9], line 4\u001b[1;36m\u001b[0m\n\u001b[1;33m    y.backward()S\u001b[0m\n\u001b[1;37m                ^\u001b[0m\n\u001b[1;31mSyntaxError\u001b[0m\u001b[1;31m:\u001b[0m invalid syntax\n"
     ]
    }
   ],
   "source": [
    "# 9.Find the gradient of y = x ** 2 + 3 * x + 5 at x = 3\n",
    "x = torch.tensor([3.0], requires_grad=True)\n",
    "y = x ** 2 + 3 * x + 5\n",
    "y.backward()S\n",
    "print(x.grad)"
   ]
  },
  {
   "cell_type": "code",
   "execution_count": null,
   "id": "5d850d80",
   "metadata": {},
   "outputs": [
    {
     "data": {
      "text/plain": [
       "tensor([6.])"
      ]
     },
     "execution_count": 23,
     "metadata": {},
     "output_type": "execute_result"
    }
   ],
   "source": [
    "# 10.Explain .detach() and its use.\n",
    "\"\"\"\n",
    " .detach() creates a new tensor that shares storage but without gradients.\n",
    "\n",
    " \n",
    " Used to stop a tensor from tracking operations in computation graphs.\n",
    "\n",
    "\n",
    "\"\"\"\n",
    "\n",
    "y = x * 2\n",
    "y_detached = y.detach()\n",
    "y_detached"
   ]
  },
  {
   "cell_type": "code",
   "execution_count": null,
   "id": "cdc3cd22",
   "metadata": {},
   "outputs": [],
   "source": [
    "# 11.How to check if a tensor is on CPU or GPU?\n",
    "\n"
   ]
  },
  {
   "cell_type": "code",
   "execution_count": null,
   "id": "5b27c570",
   "metadata": {},
   "outputs": [],
   "source": [
    "# 12.How to transfer a tensor to GPU?\n",
    "\n"
   ]
  },
  {
   "cell_type": "code",
   "execution_count": null,
   "id": "3016af2b",
   "metadata": {},
   "outputs": [],
   "source": [
    "# 13.What is torch.rand_like() and when would you use it?\n",
    "\n"
   ]
  },
  {
   "cell_type": "code",
   "execution_count": null,
   "id": "f269fc6e",
   "metadata": {},
   "outputs": [],
   "source": [
    "# 14.Create a tensor and clone it. Change the clone and prove the original is unaffected.\n",
    "\n"
   ]
  },
  {
   "cell_type": "code",
   "execution_count": null,
   "id": "cdc3b004",
   "metadata": {},
   "outputs": [],
   "source": [
    "# 15.Create a 1D tensor and reshape it into (5, 2).\n",
    "\n"
   ]
  },
  {
   "cell_type": "code",
   "execution_count": null,
   "id": "80d748d0",
   "metadata": {},
   "outputs": [],
   "source": [
    "# 16.What does .unsqueeze() do?\n",
    "\n"
   ]
  },
  {
   "cell_type": "code",
   "execution_count": null,
   "id": "69291d97",
   "metadata": {},
   "outputs": [],
   "source": [
    "# 17.How does broadcasting work in PyTorch?\n",
    "\n"
   ]
  },
  {
   "cell_type": "code",
   "execution_count": null,
   "id": "7438907a",
   "metadata": {},
   "outputs": [],
   "source": [
    "# 18.Add two tensors of different shapes using broadcasting.\n",
    "\n"
   ]
  },
  {
   "cell_type": "code",
   "execution_count": null,
   "id": "6f0f0202",
   "metadata": {},
   "outputs": [],
   "source": [
    "# 19.Explain .item() and .numpy() in context of tensors.\n",
    "\n"
   ]
  },
  {
   "cell_type": "code",
   "execution_count": null,
   "id": "ceca268d",
   "metadata": {},
   "outputs": [],
   "source": [
    "# 20.Explain difference between in-place and out-of-place operations with examples."
   ]
  },
  {
   "cell_type": "code",
   "execution_count": null,
   "id": "38edfe87",
   "metadata": {},
   "outputs": [],
   "source": []
  }
 ],
 "metadata": {
  "kernelspec": {
   "display_name": "base",
   "language": "python",
   "name": "python3"
  },
  "language_info": {
   "codemirror_mode": {
    "name": "ipython",
    "version": 3
   },
   "file_extension": ".py",
   "mimetype": "text/x-python",
   "name": "python",
   "nbconvert_exporter": "python",
   "pygments_lexer": "ipython3",
   "version": "3.12.4"
  }
 },
 "nbformat": 4,
 "nbformat_minor": 5
}
