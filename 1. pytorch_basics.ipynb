{
 "cells": [
  {
   "cell_type": "markdown",
   "id": "084b2dda",
   "metadata": {},
   "source": [
    "#    PyTorch Basics"
   ]
  },
  {
   "cell_type": "raw",
   "id": "a74c878d",
   "metadata": {
    "vscode": {
     "languageId": "raw"
    }
   },
   "source": [
    "# 1.What’s the difference between PyTorch tensors and NumPy arrays?\n",
    "\n",
    "\n",
    "PyTorch tensors can run on GPU for acceleration; NumPy arrays cannot.\n",
    "\n",
    "PyTorch supports automatic differentiation via autograd; NumPy does not.\n"
   ]
  },
  {
   "cell_type": "code",
   "execution_count": 3,
   "id": "45309698",
   "metadata": {},
   "outputs": [
    {
     "data": {
      "text/plain": [
       "tensor([[0.8490, 0.7728, 0.1322],\n",
       "        [0.1381, 0.6804, 0.4502]])"
      ]
     },
     "execution_count": 3,
     "metadata": {},
     "output_type": "execute_result"
    }
   ],
   "source": [
    "2.# Create a tensor of shape (3, 4) with random values.\n",
    "\n",
    "import torch\n",
    "\n",
    "a=torch.rand(2,3)\n",
    "a"
   ]
  },
  {
   "cell_type": "code",
   "execution_count": 4,
   "id": "0403b167",
   "metadata": {},
   "outputs": [
    {
     "data": {
      "text/plain": [
       "tensor([[0., 0., 0.],\n",
       "        [0., 0., 0.]])"
      ]
     },
     "execution_count": 4,
     "metadata": {},
     "output_type": "execute_result"
    }
   ],
   "source": [
    "# 3.Create a tensor with all ones and another with all zeros.\n",
    "b=torch.zeros(2,3)\n",
    "b"
   ]
  },
  {
   "cell_type": "code",
   "execution_count": 5,
   "id": "c1d50cd5",
   "metadata": {},
   "outputs": [
    {
     "data": {
      "text/plain": [
       "tensor([[1., 1., 1.],\n",
       "        [1., 1., 1.]])"
      ]
     },
     "execution_count": 5,
     "metadata": {},
     "output_type": "execute_result"
    }
   ],
   "source": [
    "c=torch.ones(2,3)\n",
    "c"
   ]
  },
  {
   "cell_type": "code",
   "execution_count": 6,
   "id": "a6bc4400",
   "metadata": {},
   "outputs": [
    {
     "data": {
      "text/plain": [
       "tensor([[1, 2, 3],\n",
       "        [4, 5, 6]], dtype=torch.int32)"
      ]
     },
     "execution_count": 6,
     "metadata": {},
     "output_type": "execute_result"
    }
   ],
   "source": [
    "\n",
    "# 4.Convert a NumPy array to a PyTorch tensor.\n",
    "\n",
    "import numpy as np\n",
    "arr =np.array([[1,2,3],[4,5,6]])\n",
    "\n",
    "tensor=torch.from_numpy(arr)\n",
    "tensor"
   ]
  },
  {
   "cell_type": "code",
   "execution_count": 7,
   "id": "8eff48ec",
   "metadata": {},
   "outputs": [
    {
     "data": {
      "text/plain": [
       "tensor([[0.7062, 0.8229],\n",
       "        [0.2443, 0.1213],\n",
       "        [0.4259, 0.0842]])"
      ]
     },
     "execution_count": 7,
     "metadata": {},
     "output_type": "execute_result"
    }
   ],
   "source": [
    "# 5.Slice a tensor to get the first 2 rows and 2 columns.\n",
    "\n",
    "x=torch.rand(4,4)\n",
    "sliced=x[:3,2:4]\n",
    "sliced"
   ]
  },
  {
   "cell_type": "code",
   "execution_count": 12,
   "id": "7f6467d3",
   "metadata": {},
   "outputs": [
    {
     "data": {
      "text/plain": [
       "tensor([[ 1.1788,  2.2788,  0.2688, -4.1562],\n",
       "        [ 0.9644, -3.1611, -5.3729, -4.1888]])"
      ]
     },
     "execution_count": 12,
     "metadata": {},
     "output_type": "execute_result"
    }
   ],
   "source": [
    "# 6.How do you perform matrix multiplication in PyTorch?\n",
    "a = torch.randn(2, 3)\n",
    "b = torch.randn(3, 4)\n",
    "c = torch.matmul(a, b)\n",
    "\n",
    "c"
   ]
  },
  {
   "cell_type": "code",
   "execution_count": 14,
   "id": "fa3ffc35",
   "metadata": {},
   "outputs": [
    {
     "data": {
      "text/plain": [
       "tensor([2.], requires_grad=True)"
      ]
     },
     "execution_count": 14,
     "metadata": {},
     "output_type": "execute_result"
    }
   ],
   "source": [
    "# 7.Create a tensor that requires gradients.\n",
    "\n",
    "x = torch.tensor([2.0], requires_grad=True)\n",
    "x"
   ]
  },
  {
   "cell_type": "code",
   "execution_count": 17,
   "id": "61de8885",
   "metadata": {},
   "outputs": [
    {
     "name": "stdout",
     "output_type": "stream",
     "text": [
      "tensor([7.])\n"
     ]
    }
   ],
   "source": [
    "# 8. Demonstrate .backward() on a scalar loss.\n",
    "\n",
    "x = torch.tensor([2.0], requires_grad=True)\n",
    "y = x ** 2 + 3 * x + 5\n",
    "y.backward()\n",
    "print(x.grad)"
   ]
  },
  {
   "cell_type": "code",
   "execution_count": null,
   "id": "2e8e6860",
   "metadata": {},
   "outputs": [
    {
     "name": "stdout",
     "output_type": "stream",
     "text": [
      "tensor([9.])\n"
     ]
    }
   ],
   "source": [
    "# 9.Find the gradient of y = x ** 2 + 3 * x + 5 at x = 3\n",
    "x = torch.tensor([3.0], requires_grad=True)\n",
    "y = x ** 2 + 3 * x + 5\n",
    "y.backward()S\n",
    "print(x.grad)"
   ]
  },
  {
   "cell_type": "code",
   "execution_count": 23,
   "id": "5d850d80",
   "metadata": {},
   "outputs": [
    {
     "data": {
      "text/plain": [
       "tensor([6.])"
      ]
     },
     "execution_count": 23,
     "metadata": {},
     "output_type": "execute_result"
    }
   ],
   "source": [
    "# 10.Explain .detach() and its use.\n",
    "\"\"\"\n",
    " .detach() creates a new tensor that shares storage but without gradients.\n",
    "\n",
    " \n",
    " Used to stop a tensor from tracking operations in computation graphs.\n",
    "\n",
    "\n",
    "\"\"\"\n",
    "\n",
    "y = x * 2\n",
    "y_detached = y.detach()\n",
    "y_detached"
   ]
  },
  {
   "cell_type": "code",
   "execution_count": null,
   "id": "cdc3cd22",
   "metadata": {},
   "outputs": [],
   "source": [
    "How to check if a tensor is on CPU or GPU?\n",
    "\n"
   ]
  },
  {
   "cell_type": "code",
   "execution_count": null,
   "id": "5b27c570",
   "metadata": {},
   "outputs": [],
   "source": [
    "How to transfer a tensor to GPU?\n",
    "\n"
   ]
  },
  {
   "cell_type": "code",
   "execution_count": null,
   "id": "3016af2b",
   "metadata": {},
   "outputs": [],
   "source": [
    "What is torch.rand_like() and when would you use it?\n",
    "\n"
   ]
  },
  {
   "cell_type": "code",
   "execution_count": null,
   "id": "f269fc6e",
   "metadata": {},
   "outputs": [],
   "source": [
    "Create a tensor and clone it. Change the clone and prove the original is unaffected.\n",
    "\n"
   ]
  },
  {
   "cell_type": "code",
   "execution_count": null,
   "id": "cdc3b004",
   "metadata": {},
   "outputs": [],
   "source": [
    "Create a 1D tensor and reshape it into (5, 2).\n",
    "\n"
   ]
  },
  {
   "cell_type": "code",
   "execution_count": null,
   "id": "80d748d0",
   "metadata": {},
   "outputs": [],
   "source": [
    "What does .unsqueeze() do?\n",
    "\n"
   ]
  },
  {
   "cell_type": "code",
   "execution_count": null,
   "id": "69291d97",
   "metadata": {},
   "outputs": [],
   "source": [
    "How does broadcasting work in PyTorch?\n",
    "\n"
   ]
  },
  {
   "cell_type": "code",
   "execution_count": null,
   "id": "7438907a",
   "metadata": {},
   "outputs": [],
   "source": [
    "Add two tensors of different shapes using broadcasting.\n",
    "\n"
   ]
  },
  {
   "cell_type": "code",
   "execution_count": null,
   "id": "6f0f0202",
   "metadata": {},
   "outputs": [],
   "source": [
    "Explain .item() and .numpy() in context of tensors.\n",
    "\n"
   ]
  },
  {
   "cell_type": "code",
   "execution_count": null,
   "id": "ceca268d",
   "metadata": {},
   "outputs": [],
   "source": [
    "Explain difference between in-place and out-of-place operations with examples."
   ]
  },
  {
   "cell_type": "code",
   "execution_count": null,
   "id": "38edfe87",
   "metadata": {},
   "outputs": [],
   "source": []
  }
 ],
 "metadata": {
  "kernelspec": {
   "display_name": "base",
   "language": "python",
   "name": "python3"
  },
  "language_info": {
   "codemirror_mode": {
    "name": "ipython",
    "version": 3
   },
   "file_extension": ".py",
   "mimetype": "text/x-python",
   "name": "python",
   "nbconvert_exporter": "python",
   "pygments_lexer": "ipython3",
   "version": "3.12.4"
  }
 },
 "nbformat": 4,
 "nbformat_minor": 5
}
